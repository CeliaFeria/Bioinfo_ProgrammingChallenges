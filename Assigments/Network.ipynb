{
 "cells": [
  {
   "cell_type": "code",
   "execution_count": null,
   "metadata": {},
   "outputs": [],
   "source": [
    "class Network\n",
    "  \n",
    ":InteractionNetwork  \n",
    "@@locus_code = []\n",
    "  \n",
    "def initialize (params={})\n",
    "    @InteractionNetwork = params.fetch(:InteractionNetwork, \"ABC\")\n",
    "  \n",
    "\n",
    "def Network.get_AGI_Locus(path)\n",
    "  locus = File.open(path, mode: 'r')\n",
    "  locus.readlines[1..3].each do |line|\n",
    "  @@locus_code |= [line]\n",
    "  end \n",
    "  print(@@locus_code)\n",
    "end \n",
    "   \n",
    "  \n",
    "end"
   ]
  }
 ],
 "metadata": {
  "kernelspec": {
   "display_name": "Ruby 2.5.1",
   "language": "ruby",
   "name": "ruby"
  },
  "language_info": {
   "file_extension": ".rb",
   "mimetype": "application/x-ruby",
   "name": "ruby",
   "version": "2.5.1"
  }
 },
 "nbformat": 4,
 "nbformat_minor": 2
}
