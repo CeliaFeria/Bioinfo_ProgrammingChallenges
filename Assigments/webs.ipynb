{
 "cells": [
  {
   "cell_type": "code",
   "execution_count": null,
   "metadata": {},
   "outputs": [],
   "source": [
    "def fetch(url, headers = {accept: \"*/*\"}, user = \"\", pass=\"\")\n",
    "  response = RestClient::Request.execute({\n",
    "    method: :get,\n",
    "    url: url.to_s,\n",
    "    user: user,\n",
    "    password: pass,\n",
    "    headers: headers})\n",
    "  return response\n",
    "  \n",
    "  rescue RestClient::ExceptionWithResponse => e\n",
    "    $stderr.puts e.inspect\n",
    "    response = false\n",
    "    return response  # now we are returning 'False', and we will check that with an \\\"if\\\" statement in our main code\n",
    "  rescue RestClient::Exception => e\n",
    "    $stderr.puts e.inspect\n",
    "    response = false\n",
    "    return response  # now we are returning 'False', and we will check that with an \\\"if\\\" statement in our main code\n",
    "  rescue Exception => e\n",
    "    $stderr.puts e.inspect\n",
    "    response = false\n",
    "    return response  # now we are returning 'False', and we will check that with an \\\"if\\\" statement in our main code\n",
    "end \n",
    "\n",
    "\n",
    "def get_KEGG_info\n",
    "  "
   ]
  }
 ],
 "metadata": {
  "kernelspec": {
   "display_name": "Ruby 2.5.1",
   "language": "ruby",
   "name": "ruby"
  },
  "language_info": {
   "file_extension": ".rb",
   "mimetype": "application/x-ruby",
   "name": "ruby",
   "version": "2.5.1"
  }
 },
 "nbformat": 4,
 "nbformat_minor": 2
}
