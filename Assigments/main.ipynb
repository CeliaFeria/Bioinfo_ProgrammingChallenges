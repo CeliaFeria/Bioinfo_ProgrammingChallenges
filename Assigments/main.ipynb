{
 "cells": [
  {
   "cell_type": "code",
   "execution_count": 1,
   "metadata": {},
   "outputs": [
    {
     "name": "stdout",
     "output_type": "stream",
     "text": [
      "[\"AT2g45170\", \"AT5g04140\", \"AT4g17090\", \"AT1g23740\"]\n",
      "[\"AT2G45170\", \"AT5G04140\", \"AT4G17090\", \"AT1G23740\"]\n",
      "{\"At4g33710\"=>[\"At2g45170\"]}\n",
      "{\"At4g34230\"=>[\"At5g04140\"]}\n",
      "{\"AT2g45170\"=>{\"At1g07180\"=>[{\"AT1g23740\"=>{\"At4g33710\"=>[\"At2g45170\"]}}]}, \"AT5g04140\"=>{\"At4g34230\"=>[{\"AT4g17090\"=>{\"At4g34230\"=>[\"At5g04140\"]}}]}}\n"
     ]
    },
    {
     "data": {
      "text/plain": [
       "{\"AT2g45170\"=>{\"At1g07180\"=>[{\"AT1g23740\"=>{\"At4g33710\"=>[\"At2g45170\"]}}]}, \"AT5g04140\"=>{\"At4g34230\"=>[{\"AT4g17090\"=>{\"At4g34230\"=>[\"At5g04140\"]}}]}}"
      ]
     },
     "execution_count": 1,
     "metadata": {},
     "output_type": "execute_result"
    }
   ],
   "source": [
    "require \"./Interaction_Network.rb\"\n",
    "Network.information(get_Network(get_interacction(get_AGI_Locus('./ArabidopsisSubNetwork_GeneList.txt'))))"
   ]
  },
  {
   "cell_type": "code",
   "execution_count": 2,
   "metadata": {},
   "outputs": [
    {
     "data": {
      "text/plain": [
       "{\"AT2g45170\"=>#<Network:0x0000557b089c6d68 @Interaction={\"At1g07180\"=>[{\"AT1g23740\"=>{\"At4g33710\"=>[\"At2g45170\"]}}]}, @GO_info=[\"P:autophagy\", \"P:cellular response to nitrogen starvation\", \"P:cellular response to starvation\", \"P:protein transport\", \"P:response to ethanol\", \"P:autophagy\", \"P:cellular response to starvation\", \"P:response to ethanol\", \"P:autophagy\"], @KEGG_info=[{\"ath04136\"=>\"Autophagy - other\"}]>, \"AT5g04140\"=>#<Network:0x0000557b08ac7a28 @Interaction={\"At4g34230\"=>[{\"AT4g17090\"=>{\"At4g34230\"=>[\"At5g04140\"]}}]}, @GO_info=[\"P:ammonia assimilation cycle\", \"P:glutamate biosynthetic process\", \"P:L-glutamate biosynthetic process\", \"P:photorespiration\", \"P:positive regulation of glycine hydroxymethyltransferase activity\", \"P:response to light stimulus\", \"P:response to sucrose\", \"P:glutamate biosynthetic process\", \"P:glutamate biosynthetic process\", \"P:glutamine metabolic process\", \"P:glutamate biosynthetic process\", \"P:glutamine metabolic process\"], @KEGG_info=[{\"ath00630\"=>\"Glyoxylate and dicarboxylate metabolism\", \"ath00910\"=>\"Nitrogen metabolism\"}]>}"
      ]
     },
     "execution_count": 2,
     "metadata": {},
     "output_type": "execute_result"
    }
   ],
   "source": [
    "Network.all_info"
   ]
  }
 ],
 "metadata": {
  "kernelspec": {
   "display_name": "Ruby 2.5.1",
   "language": "ruby",
   "name": "ruby"
  },
  "language_info": {
   "file_extension": ".rb",
   "mimetype": "application/x-ruby",
   "name": "ruby",
   "version": "2.5.1"
  }
 },
 "nbformat": 4,
 "nbformat_minor": 2
}
