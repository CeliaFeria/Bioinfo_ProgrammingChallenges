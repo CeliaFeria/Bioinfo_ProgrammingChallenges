{
 "cells": [
  {
   "cell_type": "code",
   "execution_count": 48,
   "metadata": {},
   "outputs": [
    {
     "data": {
      "text/plain": [
       ":get_interacction"
      ]
     },
     "execution_count": 48,
     "metadata": {},
     "output_type": "execute_result"
    }
   ],
   "source": [
    " require 'rest-client' \n",
    "\n",
    "def fetch(url, headers = {accept: \"*/*\"}, user = \"\", pass=\"\")\n",
    "  response = RestClient::Request.execute({\n",
    "    method: :get,\n",
    "    url: url.to_s,\n",
    "    user: user,\n",
    "    password: pass,\n",
    "    headers: headers})\n",
    "  return response\n",
    "  \n",
    "  rescue RestClient::ExceptionWithResponse => e\n",
    "    $stderr.puts e.inspect\n",
    "    response = false\n",
    "    return response  # now we are returning 'False', and we will check that with an \\\"if\\\" statement in our main code\n",
    "  rescue RestClient::Exception => e\n",
    "    $stderr.puts e.inspect\n",
    "    response = false\n",
    "    return response  # now we are returning 'False', and we will check that with an \\\"if\\\" statement in our main code\n",
    "  rescue Exception => e\n",
    "    $stderr.puts e.inspect\n",
    "    response = false\n",
    "    return response  # now we are returning 'False', and we will check that with an \\\"if\\\" statement in our main code\n",
    "end \n",
    "\n",
    "\n",
    "\n",
    "def get_AGI_Locus(path)\n",
    "  locus_code= []\n",
    "  locus = File.open(path, mode: 'r')\n",
    "  locus.readlines[1..10].each do |line|\n",
    "    code = line.strip.split(\"\\n\")\n",
    "  locus_code |= code\n",
    "  end \n",
    "  return locus_code\n",
    "end  \n",
    "\n",
    "def get_interacction(locus, repeats)\n",
    "  interacctions = Hash.new\n",
    "  #all_int_gen = Hash.new\n",
    "  i = 0\n",
    "  if i < repeats\n",
    "    locus.each do |locus|\n",
    "    res = fetch(\"http://bar.utoronto.ca:9090/psicquic/webservices/current/search/interactor/#{locus}/?firstResult=0&maxResults=30&format=tab25\");  #restritions: 9090-> species, maxresult -> 30\n",
    "    body = res.body.split(\"\\n\") #each interaction is separated by \\n\n",
    "      #puts locus\n",
    "    all_interacctions = []\n",
    "    all_int_gen = Hash.new\n",
    "    body.each do |elem|\n",
    "      elem = elem.split(\"\\t\")\n",
    "      elem[-1].to_s =~ /(\\d.\\d+)/\n",
    "      score = $1\n",
    "      if score.to_f > 0.5  #significative medium-high interaction above 0.4\n",
    "        elem[2] =~ /(A[Tt]\\d[Gg]\\d\\d\\d\\d\\d)/\n",
    "        gen1 = $1\n",
    "        elem[3] =~ /(A[Tt]\\d[Gg]\\d\\d\\d\\d\\d)/\n",
    "        gen2 = $1\n",
    "        next if gen1.nil?||gen2.nil?\n",
    "        #puts gen1,gen2\n",
    "\n",
    "        if gen1.upcase != locus.upcase #I use upcase because all locus have a T instead of the t in the gen interactors\n",
    "          all_interacctions.push(gen1)\n",
    "        else\n",
    "          all_interacctions.push(gen2)\n",
    "        end \n",
    "      end\n",
    "    end\n",
    "    next if all_interacctions[0].nil?\n",
    "    all_int_gen[locus] = all_interacctions\n",
    "    puts all_int_gen\n",
    "    i = i+1\n",
    "\n",
    "  #if j%2 == 0\n",
    "    int_2 = get_interacction(all_interacctions, 1)\n",
    "    #print (\"second values\")\n",
    "    ##puts int_2\n",
    "    #value.each do |x|\n",
    "    #int_2.each do |key2,value2|\n",
    "    #next if x != key2\n",
    "      #puts \"#{x} interacts with #{key2} and #{value2}\"\n",
    "      #if locus.upcase.include?(value2.upcase) == TRUE && value2 != key\n",
    "        #interacctions[key] = [key2,value2]\n",
    "      #end \n",
    "  #end\n",
    "        \n",
    "    #end    \n",
    "  end\n",
    "  #print (\"getting interacctions\")\n",
    "  #puts interacctions\n",
    "  #puts all_int_gen\n",
    "  #puts int_2\n",
    "  end\n",
    "#puts all_int_gen\n",
    "#puts int_2\n",
    "end \n"
   ]
  },
  {
   "cell_type": "code",
   "execution_count": 49,
   "metadata": {},
   "outputs": [
    {
     "data": {
      "text/plain": [
       "[\"AT5g54270\", \"AT1g21400\", \"AT5g19120\", \"AT2g13360\", \"AT4g05180\", \"AT1g22690\", \"AT2g45170\", \"AT4g09650\", \"AT5g55620\", \"AT1g31330\"]"
      ]
     },
     "execution_count": 49,
     "metadata": {},
     "output_type": "execute_result"
    }
   ],
   "source": [
    "locus = get_AGI_Locus('./ArabidopsisSubNetwork_GeneList.txt')"
   ]
  },
  {
   "cell_type": "code",
   "execution_count": null,
   "metadata": {
    "scrolled": true
   },
   "outputs": [
    {
     "name": "stdout",
     "output_type": "stream",
     "text": [
      "{\"AT5g54270\"=>[\"At4g37140\", \"At5g12980\", \"At4g35350\", \"At1g22300\", \"At5g45870\", \"At1g10430\", \"At3g32920\", \"At4g37930\", \"At1g79870\", \"At3g44680\", \"At4g24220\", \"At4g34840\", \"At5g26780\", \"At1g69960\", \"At2g20160\"]}\n",
      "{\"At4g37140\"=>[\"At2g34420\", \"At3g18190\", \"At5g54270\", \"At4g29840\", \"At4g15530\"]}\n",
      "{\"At2g34420\"=>[\"At3g47620\", \"At3g26090\", \"At4g37140\", \"At3g14290\", \"At3g62980\", \"At3g57870\", \"At4g26220\", \"At5g20850\", \"At3g44680\", \"At5g57550\", \"At3g48040\", \"At4g34840\", \"At1g01910\", \"At1g79870\", \"At5g50240\"]}\n",
      "{\"At3g47620\"=>[\"At2g45950\", \"At2g41730\", \"At5g14070\", \"At2g44090\", \"At1g05710\", \"At5g63370\", \"At4g24880\", \"At5g51910\", \"At1g49030\", \"At4g04800\", \"At1g18630\", \"At1g29680\", \"At5g03850\", \"At4g36690\", \"At5g60120\", \"At3g20810\", \"At2g32160\", \"At3g23390\", \"At1g31240\", \"At1g29195\", \"At4g34740\", \"At2g24550\", \"At3g26810\", \"At1g29910\", \"At2g33390\", \"At4g15545\", \"At1g10960\", \"At1g30120\", \"At4g35250\", \"At1g80000\"]}\n",
      "{\"At2g45950\"=>[\"At2g18915\", \"At3g47620\", \"At5g49000\", \"At1g60080\", \"At5g39250\", \"At3g61590\", \"At1g13320\"]}\n",
      "{\"At2g18915\"=>[\"At2g18915\", \"At3g60020\", \"At5g57360\", \"At5g23040\", \"At1g22770\", \"At1g28050\", \"At2g03170\", \"At1g10940\", \"At5g15840\", \"At1g68520\", \"At5g57660\", \"At4g34210\", \"At5g24930\", \"At1g75950\", \"At3g04820\", \"At5g42190\", \"At5g62430\", \"At5g62430\", \"At5g61380\", \"At5g39660\", \"At5g39660\", \"At3g47500\", \"At3g47500\", \"At2g25700\", \"At3g02380\", \"At2g45950\", \"At1g20140\", \"At5g24470\", \"At1g56280\", \"At2g33500\"]}\n",
      "{\"At2g18915\"=>[\"At2g18915\", \"At3g60020\", \"At5g57360\", \"At5g23040\", \"At1g22770\", \"At1g28050\", \"At2g03170\", \"At1g10940\", \"At5g15840\", \"At1g68520\", \"At5g57660\", \"At4g34210\", \"At5g24930\", \"At1g75950\", \"At3g04820\", \"At5g42190\", \"At5g62430\", \"At5g62430\", \"At5g61380\", \"At5g39660\", \"At5g39660\", \"At3g47500\", \"At3g47500\", \"At2g25700\", \"At3g02380\", \"At2g45950\", \"At1g20140\", \"At5g24470\", \"At1g56280\", \"At2g33500\"]}\n",
      "{\"At2g18915\"=>[\"At2g18915\", \"At3g60020\", \"At5g57360\", \"At5g23040\", \"At1g22770\", \"At1g28050\", \"At2g03170\", \"At1g10940\", \"At5g15840\", \"At1g68520\", \"At5g57660\", \"At4g34210\", \"At5g24930\", \"At1g75950\", \"At3g04820\", \"At5g42190\", \"At5g62430\", \"At5g62430\", \"At5g61380\", \"At5g39660\", \"At5g39660\", \"At3g47500\", \"At3g47500\", \"At2g25700\", \"At3g02380\", \"At2g45950\", \"At1g20140\", \"At5g24470\", \"At1g56280\", \"At2g33500\"]}\n",
      "{\"At2g18915\"=>[\"At2g18915\", \"At3g60020\", \"At5g57360\", \"At5g23040\", \"At1g22770\", \"At1g28050\", \"At2g03170\", \"At1g10940\", \"At5g15840\", \"At1g68520\", \"At5g57660\", \"At4g34210\", \"At5g24930\", \"At1g75950\", \"At3g04820\", \"At5g42190\", \"At5g62430\", \"At5g62430\", \"At5g61380\", \"At5g39660\", \"At5g39660\", \"At3g47500\", \"At3g47500\", \"At2g25700\", \"At3g02380\", \"At2g45950\", \"At1g20140\", \"At5g24470\", \"At1g56280\", \"At2g33500\"]}\n",
      "{\"At2g18915\"=>[\"At2g18915\", \"At3g60020\", \"At5g57360\", \"At5g23040\", \"At1g22770\", \"At1g28050\", \"At2g03170\", \"At1g10940\", \"At5g15840\", \"At1g68520\", \"At5g57660\", \"At4g34210\", \"At5g24930\", \"At1g75950\", \"At3g04820\", \"At5g42190\", \"At5g62430\", \"At5g62430\", \"At5g61380\", \"At5g39660\", \"At5g39660\", \"At3g47500\", \"At3g47500\", \"At2g25700\", \"At3g02380\", \"At2g45950\", \"At1g20140\", \"At5g24470\", \"At1g56280\", \"At2g33500\"]}\n",
      "{\"At2g18915\"=>[\"At2g18915\", \"At3g60020\", \"At5g57360\", \"At5g23040\", \"At1g22770\", \"At1g28050\", \"At2g03170\", \"At1g10940\", \"At5g15840\", \"At1g68520\", \"At5g57660\", \"At4g34210\", \"At5g24930\", \"At1g75950\", \"At3g04820\", \"At5g42190\", \"At5g62430\", \"At5g62430\", \"At5g61380\", \"At5g39660\", \"At5g39660\", \"At3g47500\", \"At3g47500\", \"At2g25700\", \"At3g02380\", \"At2g45950\", \"At1g20140\", \"At5g24470\", \"At1g56280\", \"At2g33500\"]}\n",
      "{\"At2g18915\"=>[\"At2g18915\", \"At3g60020\", \"At5g57360\", \"At5g23040\", \"At1g22770\", \"At1g28050\", \"At2g03170\", \"At1g10940\", \"At5g15840\", \"At1g68520\", \"At5g57660\", \"At4g34210\", \"At5g24930\", \"At1g75950\", \"At3g04820\", \"At5g42190\", \"At5g62430\", \"At5g62430\", \"At5g61380\", \"At5g39660\", \"At5g39660\", \"At3g47500\", \"At3g47500\", \"At2g25700\", \"At3g02380\", \"At2g45950\", \"At1g20140\", \"At5g24470\", \"At1g56280\", \"At2g33500\"]}\n",
      "{\"At2g18915\"=>[\"At2g18915\", \"At3g60020\", \"At5g57360\", \"At5g23040\", \"At1g22770\", \"At1g28050\", \"At2g03170\", \"At1g10940\", \"At5g15840\", \"At1g68520\", \"At5g57660\", \"At4g34210\", \"At5g24930\", \"At1g75950\", \"At3g04820\", \"At5g42190\", \"At5g62430\", \"At5g62430\", \"At5g61380\", \"At5g39660\", \"At5g39660\", \"At3g47500\", \"At3g47500\", \"At2g25700\", \"At3g02380\", \"At2g45950\", \"At1g20140\", \"At5g24470\", \"At1g56280\", \"At2g33500\"]}\n",
      "{\"At2g18915\"=>[\"At2g18915\", \"At3g60020\", \"At5g57360\", \"At5g23040\", \"At1g22770\", \"At1g28050\", \"At2g03170\", \"At1g10940\", \"At5g15840\", \"At1g68520\", \"At5g57660\", \"At4g34210\", \"At5g24930\", \"At1g75950\", \"At3g04820\", \"At5g42190\", \"At5g62430\", \"At5g62430\", \"At5g61380\", \"At5g39660\", \"At5g39660\", \"At3g47500\", \"At3g47500\", \"At2g25700\", \"At3g02380\", \"At2g45950\", \"At1g20140\", \"At5g24470\", \"At1g56280\", \"At2g33500\"]}\n",
      "{\"At2g18915\"=>[\"At2g18915\", \"At3g60020\", \"At5g57360\", \"At5g23040\", \"At1g22770\", \"At1g28050\", \"At2g03170\", \"At1g10940\", \"At5g15840\", \"At1g68520\", \"At5g57660\", \"At4g34210\", \"At5g24930\", \"At1g75950\", \"At3g04820\", \"At5g42190\", \"At5g62430\", \"At5g62430\", \"At5g61380\", \"At5g39660\", \"At5g39660\", \"At3g47500\", \"At3g47500\", \"At2g25700\", \"At3g02380\", \"At2g45950\", \"At1g20140\", \"At5g24470\", \"At1g56280\", \"At2g33500\"]}\n"
     ]
    },
    {
     "name": "stderr",
     "output_type": "stream",
     "text": [
      "Interrupt\n"
     ]
    },
    {
     "ename": "NoMethodError",
     "evalue": "undefined method `body' for false:FalseClass",
     "output_type": "error",
     "traceback": [
      "\u001b[31mNoMethodError\u001b[0m: undefined method `body' for false:FalseClass",
      "(pry):1594:in `block in get_interacction'",
      "(pry):1592:in `each'",
      "(pry):1592:in `get_interacction'",
      "(pry):1623:in `block in get_interacction'",
      "(pry):1592:in `each'",
      "(pry):1592:in `get_interacction'",
      "(pry):1623:in `block in get_interacction'",
      "(pry):1592:in `each'",
      "(pry):1592:in `get_interacction'",
      "(pry):1623:in `block in get_interacction'",
      "(pry):1592:in `each'",
      "(pry):1592:in `get_interacction'",
      "(pry):1623:in `block in get_interacction'",
      "(pry):1592:in `each'",
      "(pry):1592:in `get_interacction'",
      "(pry):1623:in `block in get_interacction'",
      "(pry):1592:in `each'",
      "(pry):1592:in `get_interacction'",
      "(pry):1623:in `block in get_interacction'",
      "(pry):1592:in `each'",
      "(pry):1592:in `get_interacction'",
      "(pry):1623:in `block in get_interacction'",
      "(pry):1592:in `each'",
      "(pry):1592:in `get_interacction'",
      "(pry):1623:in `block in get_interacction'",
      "(pry):1592:in `each'",
      "(pry):1592:in `get_interacction'",
      "(pry):1623:in `block in get_interacction'",
      "(pry):1592:in `each'",
      "(pry):1592:in `get_interacction'",
      "(pry):1623:in `block in get_interacction'",
      "(pry):1592:in `each'",
      "(pry):1592:in `get_interacction'",
      "(pry):1623:in `block in get_interacction'",
      "(pry):1592:in `each'",
      "(pry):1592:in `get_interacction'",
      "(pry):1623:in `block in get_interacction'",
      "(pry):1592:in `each'",
      "(pry):1592:in `get_interacction'",
      "(pry):1623:in `block in get_interacction'",
      "(pry):1592:in `each'",
      "(pry):1592:in `get_interacction'",
      "(pry):1623:in `block in get_interacction'",
      "(pry):1592:in `each'",
      "(pry):1592:in `get_interacction'",
      "(pry):1623:in `block in get_interacction'",
      "(pry):1592:in `each'",
      "(pry):1592:in `get_interacction'",
      "(pry):1649:in `<main>'",
      "/var/lib/gems/2.5.0/gems/pry-0.13.1/lib/pry/pry_instance.rb:290:in `eval'",
      "/var/lib/gems/2.5.0/gems/pry-0.13.1/lib/pry/pry_instance.rb:290:in `evaluate_ruby'",
      "/var/lib/gems/2.5.0/gems/pry-0.13.1/lib/pry/pry_instance.rb:659:in `handle_line'",
      "/var/lib/gems/2.5.0/gems/pry-0.13.1/lib/pry/pry_instance.rb:261:in `block (2 levels) in eval'",
      "/var/lib/gems/2.5.0/gems/pry-0.13.1/lib/pry/pry_instance.rb:260:in `catch'",
      "/var/lib/gems/2.5.0/gems/pry-0.13.1/lib/pry/pry_instance.rb:260:in `block in eval'",
      "/var/lib/gems/2.5.0/gems/pry-0.13.1/lib/pry/pry_instance.rb:259:in `catch'",
      "/var/lib/gems/2.5.0/gems/pry-0.13.1/lib/pry/pry_instance.rb:259:in `eval'",
      "/var/lib/gems/2.5.0/gems/iruby-0.4.0/lib/iruby/backend.rb:66:in `eval'",
      "/var/lib/gems/2.5.0/gems/iruby-0.4.0/lib/iruby/backend.rb:12:in `eval'",
      "/var/lib/gems/2.5.0/gems/iruby-0.4.0/lib/iruby/kernel.rb:90:in `execute_request'",
      "/var/lib/gems/2.5.0/gems/iruby-0.4.0/lib/iruby/kernel.rb:49:in `dispatch'",
      "/var/lib/gems/2.5.0/gems/iruby-0.4.0/lib/iruby/kernel.rb:38:in `run'",
      "/var/lib/gems/2.5.0/gems/iruby-0.4.0/lib/iruby/command.rb:110:in `run_kernel'",
      "/var/lib/gems/2.5.0/gems/iruby-0.4.0/lib/iruby/command.rb:40:in `run'",
      "/var/lib/gems/2.5.0/gems/iruby-0.4.0/bin/iruby:5:in `<main>'"
     ]
    }
   ],
   "source": [
    "\n",
    "get_interacction(get_AGI_Locus('./ArabidopsisSubNetwork_GeneList.txt'), 10)"
   ]
  },
  {
   "cell_type": "code",
   "execution_count": null,
   "metadata": {},
   "outputs": [],
   "source": []
  }
 ],
 "metadata": {
  "kernelspec": {
   "display_name": "Ruby 2.5.1",
   "language": "ruby",
   "name": "ruby"
  },
  "language_info": {
   "file_extension": ".rb",
   "mimetype": "application/x-ruby",
   "name": "ruby",
   "version": "2.5.1"
  }
 },
 "nbformat": 4,
 "nbformat_minor": 2
}
