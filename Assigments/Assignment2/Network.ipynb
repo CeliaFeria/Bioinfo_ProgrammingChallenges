{
 "cells": [
  {
   "cell_type": "code",
   "execution_count": 3,
   "metadata": {},
   "outputs": [
    {
     "data": {
      "text/plain": [
       ":all_info"
      ]
     },
     "execution_count": 3,
     "metadata": {},
     "output_type": "execute_result"
    }
   ],
   "source": [
    "require \"./Web_info.rb\"\n",
    "\n",
    "class Network\n",
    "  \n",
    ":Interactions\n",
    ":GO_info\n",
    ":KEGG_info \n",
    "\n",
    "#@@Interaction_Network = []\n",
    "@interacctions = Hash.new\n",
    "  \n",
    "  \n",
    "\n",
    "  \n",
    "def initialize (params={})\n",
    "    @Interaction = params.fetch(:Interactions, \"ABC\")\n",
    "    @GO_info = params.fetch(:GO_info, \"ABC\")\n",
    "    @KEGG_info = params.fetch(:KEGG_info, \"ABC\")\n",
    "  \n",
    "end\n",
    "  \n",
    "  \n",
    "def Network.information(info)\n",
    "  info.each do |key, value|\n",
    "  all = Network.new({:Interactions => info[key], \n",
    "    :GO_info => get_GO(value), \n",
    "    :KEGG_info =>  get_KEGG_info(key)})\n",
    "      \n",
    "    @interacctions[key] = all\n",
    "  end\n",
    "end \n",
    "  \n",
    "  def Network.all_info\n",
    "    return @interacctions\n",
    "  end\n",
    "  \n",
    "end "
   ]
  },
  {
   "cell_type": "code",
   "execution_count": null,
   "metadata": {},
   "outputs": [],
   "source": []
  }
 ],
 "metadata": {
  "kernelspec": {
   "display_name": "Ruby 2.5.1",
   "language": "ruby",
   "name": "ruby"
  },
  "language_info": {
   "file_extension": ".rb",
   "mimetype": "application/x-ruby",
   "name": "ruby",
   "version": "2.5.1"
  }
 },
 "nbformat": 4,
 "nbformat_minor": 2
}
